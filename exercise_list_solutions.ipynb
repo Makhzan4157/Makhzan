{
 "cells": [
  {
   "cell_type": "code",
   "execution_count": 15,
   "metadata": {},
   "outputs": [
    {
     "name": "stdout",
     "output_type": "stream",
     "text": [
      "Usman\n",
      "Shahryar\n",
      "Tipu\n",
      "Salman\n",
      "Mohsin\n",
      "Umair\n"
     ]
    }
   ],
   "source": [
    "names = [\"Usman\", \"Shahryar\", \"Tipu\", \"Salman\", \"Mohsin\", \"Umair\",]\n",
    "print(names[0])\n",
    "print(names[1])\n",
    "print(names[2])\n",
    "print(names[3])\n",
    "print(names[4])\n",
    "print(names[5])"
   ]
  },
  {
   "cell_type": "code",
   "execution_count": 16,
   "metadata": {},
   "outputs": [
    {
     "name": "stdout",
     "output_type": "stream",
     "text": [
      "Hi Usman, How are you?\n",
      "Hi Shahryar, How are you?\n",
      "Hi Tipu, How are you?\n",
      "Hi Salman, How are you?\n",
      "Hi Mohsin, How are you?\n",
      "Hi Umair, How are you?\n"
     ]
    }
   ],
   "source": [
    "Greeting = \"How are you?\"\n",
    "print(f\"Hi {names [0]}, {Greeting}\")\n",
    "print(f\"Hi {names [1]}, {Greeting}\")\n",
    "print(f\"Hi {names [2]}, {Greeting}\")\n",
    "print(f\"Hi {names [3]}, {Greeting}\")\n",
    "print(f\"Hi {names [4]}, {Greeting}\")\n",
    "print(f\"Hi {names [5]}, {Greeting}\")"
   ]
  },
  {
   "cell_type": "code",
   "execution_count": 17,
   "metadata": {},
   "outputs": [
    {
     "name": "stdout",
     "output_type": "stream",
     "text": [
      "I want to tavel on pamir highway with my Honda bike.\n",
      "I want to buy a car of KiA.\n"
     ]
    }
   ],
   "source": [
    "favorite_brand = [\"Honda\", \"Suzuki\", \"Kawasaki\", \"Ducati\", \"BMW\", \"KiA\"]\n",
    "favorite_transport = [\"bike\", \"car\"]\n",
    "print(f\"I want to tavel on pamir highway with my {favorite_brand[0]} {favorite_transport[0]}.\")\n",
    "print(f\"I want to buy a {favorite_transport[1]} of {favorite_brand[-1]}.\")\n"
   ]
  },
  {
   "cell_type": "code",
   "execution_count": 18,
   "metadata": {},
   "outputs": [
    {
     "name": "stdout",
     "output_type": "stream",
     "text": [
      "Hi Maqsood Ahmad, \"I want to invite you to a dinner party as it's been a long time we didn't get to meet.\"\n",
      "Hi Zuhaib Awan, \"I want to  invite you to a dinner party as it's been a long time we didn't get to meet.\"\n",
      "Hi Taiyyab Haider, \"I want to invite you to a dinner party as it's been a long time we didn't get to meet.\"\n"
     ]
    }
   ],
   "source": [
    "guest_list = [\"Maqsood Ahmad\", \"Zuhaib Awan\", \"Taiyyab Haider\"]\n",
    "print(f'Hi {guest_list[0]}, ''''\"I want to invite you to a dinner party as it's been a long time we didn't get to meet.\"''')\n",
    "print(f'Hi {guest_list[1]}, ''''\"I want to  invite you to a dinner party as it's been a long time we didn't get to meet.\"''')\n",
    "print(f'Hi {guest_list[2]}, ''''\"I want to invite you to a dinner party as it's been a long time we didn't get to meet.\"''')"
   ]
  },
  {
   "cell_type": "code",
   "execution_count": 19,
   "metadata": {},
   "outputs": [
    {
     "name": "stdout",
     "output_type": "stream",
     "text": [
      "Unfortunately, Zuhaib Awan, can't make it to dinner'\n",
      "Hi Maqsood Ahmad, \"I want to invite you to a dinner party as it's been a long time we didn't get to meet.\"\n",
      "Hi Zuhaib Awan, \"I want to invite you to a dinner party as it's been a long time we didn't get to meet.\"\n",
      "Hi Taiyyab Haider, \"I want to invite you to a dinner party as it's been a long time we didn't get to meet.\"\n"
     ]
    }
   ],
   "source": [
    "unable_to_join = guest_list[1]\n",
    "print(f\"Unfortunately, {unable_to_join}, can't make it to dinner'\")\n",
    "guest_list[1] = \"Zuhaib Awan\"\n",
    "print(f'Hi {guest_list[0]}, ''''\"I want to invite you to a dinner party as it's been a long time we didn't get to meet.\"''')\n",
    "print(f'Hi {guest_list[1]}, ''''\"I want to invite you to a dinner party as it's been a long time we didn't get to meet.\"''')\n",
    "print(f'Hi {guest_list[2]}, ''''\"I want to invite you to a dinner party as it's been a long time we didn't get to meet.\"''')"
   ]
  },
  {
   "cell_type": "code",
   "execution_count": 20,
   "metadata": {},
   "outputs": [
    {
     "name": "stdout",
     "output_type": "stream",
     "text": [
      "I have found a bigger table for the dinner\n",
      "Hi MAqsood, \"I want to invite you to a dinner party as it's been a long time we didn't get to meet.\"\n",
      "Hi Maqsood Ahmad, \"I want to invite you to a dinner party as it's been a long time we didn't get to meet.\"\n",
      "Hi Hamza, \"I want to invite you to a dinner party as it's been a long time we didn't get to meet.\"\n",
      "Hi Zuhaib Awan, \"I want to invite you to a dinner party as it's been a long time we didn't get to meet.\"\n",
      "Hi Taiyyab Haider, \"I want to invite you to a dinner party as it's been a long time we didn't get to meet.\"\n",
      "Hi Ali, \"I want to invite you to a dinner party as it's been a long time we didn't get to meet.\"\n"
     ]
    }
   ],
   "source": [
    "print(\"I have found a bigger table for the dinner\")\n",
    "guest_list.insert(0,'MAqsood')\n",
    "guest_list.insert(2,'Hamza')\n",
    "guest_list.append('Ali')\n",
    "print(f'Hi {guest_list[0]}, ''''\"I want to invite you to a dinner party as it's been a long time we didn't get to meet.\"''')\n",
    "print(f'Hi {guest_list[1]}, ''''\"I want to invite you to a dinner party as it's been a long time we didn't get to meet.\"''')\n",
    "print(f'Hi {guest_list[2]}, ''''\"I want to invite you to a dinner party as it's been a long time we didn't get to meet.\"''')\n",
    "print(f'Hi {guest_list[3]}, ''''\"I want to invite you to a dinner party as it's been a long time we didn't get to meet.\"''')\n",
    "print(f'Hi {guest_list[4]}, ''''\"I want to invite you to a dinner party as it's been a long time we didn't get to meet.\"''')\n",
    "print(f'Hi {guest_list[5]}, ''''\"I want to invite you to a dinner party as it's been a long time we didn't get to meet.\"''')\n"
   ]
  },
  {
   "cell_type": "code",
   "execution_count": 21,
   "metadata": {},
   "outputs": [
    {
     "name": "stdout",
     "output_type": "stream",
     "text": [
      "Unfortunately,I can only invite two people.\n",
      "Hi Ali, I can't invite you to dinner.\n",
      "Hi Taiyyab Haider, I can't invite you to dinner.\n",
      "Hi Zuhaib Awan, I can't invite you to dinner.\n",
      "Hi Hamza, I can't invite you to dinner.\n",
      "Hi MAqsood, I want to invite you to dinner. Let's have fun together\n",
      "Hi Maqsood Ahmad, I want to invite you to dinner.Let's have fun together\n",
      "[]\n"
     ]
    }
   ],
   "source": [
    "print('Unfortunately,I can only invite two people.')\n",
    "popped_guests = guest_list.pop()\n",
    "print(f\"Hi {popped_guests}, I can't invite you to dinner.\")\n",
    "popped_guests = guest_list.pop()\n",
    "print(f\"Hi {popped_guests}, I can't invite you to dinner.\")\n",
    "popped_guests = guest_list.pop()\n",
    "print(f\"Hi {popped_guests}, I can't invite you to dinner.\")\n",
    "popped_guests = guest_list.pop()\n",
    "print(f\"Hi {popped_guests}, I can't invite you to dinner.\")\n",
    "print(f\"Hi {guest_list[0]}, I want to invite you to dinner. Let's have fun together\")\n",
    "print(f\"Hi {guest_list[1]}, I want to invite you to dinner.Let's have fun together\")\n",
    "del guest_list[1]\n",
    "del guest_list[0]\n",
    "print(guest_list)"
   ]
  },
  {
   "cell_type": "code",
   "execution_count": 22,
   "metadata": {},
   "outputs": [
    {
     "name": "stdout",
     "output_type": "stream",
     "text": [
      "['Los Angeles', 'Baku', 'Miami', 'Tokyo', 'Melbourne']\n",
      "['Baku', 'Los Angeles', 'Melbourne', 'Miami', 'Tokyo']\n",
      "['Los Angeles', 'Baku', 'Miami', 'Tokyo', 'Melbourne']\n",
      "['Tokyo', 'Miami', 'Melbourne', 'Los Angeles', 'Baku']\n",
      "['Los Angeles', 'Baku', 'Miami', 'Tokyo', 'Melbourne']\n",
      "['Melbourne', 'Tokyo', 'Miami', 'Baku', 'Los Angeles']\n",
      "['Los Angeles', 'Baku', 'Miami', 'Tokyo', 'Melbourne']\n",
      "['Baku', 'Los Angeles', 'Melbourne', 'Miami', 'Tokyo']\n",
      "['Tokyo', 'Miami', 'Melbourne', 'Los Angeles', 'Baku']\n"
     ]
    }
   ],
   "source": [
    "best_places = ['Los Angeles', 'Baku', 'Miami', 'Tokyo', 'Melbourne']\n",
    "print(best_places)\n",
    "print(sorted(best_places))\n",
    "print(best_places)\n",
    "print(sorted(best_places, reverse=True))\n",
    "print(best_places)\n",
    "best_places.reverse()\n",
    "print(best_places)\n",
    "best_places.reverse()\n",
    "print(best_places)\n",
    "best_places.sort()\n",
    "print(best_places)\n",
    "best_places.sort(reverse=True)\n",
    "print(best_places)\n",
    "\n",
    "\n",
    "\n"
   ]
  },
  {
   "cell_type": "code",
   "execution_count": 23,
   "metadata": {},
   "outputs": [
    {
     "name": "stdout",
     "output_type": "stream",
     "text": [
      "['broad peak', 'everest', 'nangaparbat', 'rakaposhi', 'kelash']\n",
      "['ravi', 'chenab', 'nile', 'amazon', 'jehlum']\n",
      "['Pakistan', 'Canada', 'United States', 'India']\n",
      "['English', 'Urdu', 'Greek', 'Chinese', 'Russian']\n",
      "['broad peak', 'everest', 'nangaparbat', 'rakaposhi', 'kelash', 'Kangchenjunga']\n",
      "['ravi', 'chenab', 'Ganges', 'nile', 'amazon', 'jehlum']\n",
      "['Pakistan', 'Canada', 'United States', 'India', 'China', 'Japan', 'South Korea']\n",
      "['English', 'Urdu', 'Greek', 'Spanish', 'Chinese', 'Russian']\n",
      "['Kangchenjunga', 'kelash', 'rakaposhi', 'nangaparbat', 'everest', 'broad peak']\n",
      "['Ganges', 'amazon', 'chenab', 'jehlum', 'nile', 'ravi']\n",
      "['Pakistan', 'Canada', 'United States', 'China', 'Japan', 'South Korea']\n",
      "['English', 'Urdu', 'Spanish', 'Chinese', 'Russian']\n"
     ]
    }
   ],
   "source": [
    "mountains = ['broad peak', 'everest', 'nangaparbat', 'rakaposhi', 'kelash']\n",
    "river = ['ravi', 'chenab', 'nile', 'amazon', 'jehlum']\n",
    "countries = ['Pakistan', 'Canada', 'United States', 'India']\n",
    "language = ['English', 'Urdu', 'Greek', 'Chinese', 'Russian']\n",
    "print(mountains)\n",
    "print(river)\n",
    "print(countries)\n",
    "print(language)\n",
    "mountains.append('Kangchenjunga')\n",
    "river.insert(2, 'Ganges')\n",
    "countries.extend(['China', 'Japan', 'South Korea'])\n",
    "language.insert(3, 'Spanish')\n",
    "print(mountains)\n",
    "print(river)\n",
    "print(countries)\n",
    "print(language)\n",
    "del countries[-4]\n",
    "language.pop(2)\n",
    "river.sort()\n",
    "mountains.reverse()\n",
    "print(mountains)\n",
    "print(river)\n",
    "print(countries)\n",
    "print(language)\n"
   ]
  }
 ],
 "metadata": {
  "kernelspec": {
   "display_name": "Python 3",
   "language": "python",
   "name": "python3"
  },
  "language_info": {
   "codemirror_mode": {
    "name": "ipython",
    "version": 3
   },
   "file_extension": ".py",
   "mimetype": "text/x-python",
   "name": "python",
   "nbconvert_exporter": "python",
   "pygments_lexer": "ipython3",
   "version": "3.12.4"
  }
 },
 "nbformat": 4,
 "nbformat_minor": 2
}
